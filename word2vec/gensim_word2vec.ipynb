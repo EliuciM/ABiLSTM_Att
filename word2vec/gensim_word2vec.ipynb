{
 "cells": [
  {
   "cell_type": "code",
   "execution_count": 1,
   "metadata": {},
   "outputs": [
    {
     "name": "stderr",
     "output_type": "stream",
     "text": [
      "Building prefix dict from the default dictionary ...\n",
      "Loading model from cache C:\\Users\\86134\\AppData\\Local\\Temp\\jieba.cache\n",
      "Loading model cost 0.757 seconds.\n",
      "Prefix dict has been built successfully.\n"
     ]
    }
   ],
   "source": [
    "import jieba\n",
    "import re\n",
    "import pandas as pd\n",
    "import numpy as np\n",
    "\n",
    "# 输入的原始评论\n",
    "dataSource=\"../data/reviews_wuhan.csv\"\n",
    "stopWordList = \"../stopwords/hit_stopwords.txt\" \n",
    "# 分词，去除标点之后的语料\n",
    "fileSegWordDonePath ='../data/corpus/reviews_wuhan_seg.txt'\n",
    "               \n",
    "df = pd.read_csv(dataSource)\n",
    "review = df[\"reviewText\"].tolist()\n",
    "reviews=[]\n",
    "# stopwords = [line.strip() for line in open(stopWordList, 'r',encoding=\"utf-8\").readlines()] #不要去除停用词\n",
    "for line in review:#每次读一行\n",
    "    line=re.sub('[^\\u4e00-\\u9fa5]','',line) # 保留所有的中文\n",
    "    cut_text=jieba.lcut(line)\n",
    "    cut_list=[i for i in cut_text]\n",
    "    reviews.append(cut_text)\n",
    "\n",
    "# 保存分词结果到文件中\n",
    "with open(fileSegWordDonePath,'w',encoding='utf-8') as fW:\n",
    "    for i in range(len(review)):\n",
    "        for j in range(len(reviews[i])):\n",
    "            fW.write(reviews[i][j]+' ')\n",
    "        fW.write('\\n')\n"
   ]
  },
  {
   "cell_type": "code",
   "execution_count": 1,
   "metadata": {},
   "outputs": [],
   "source": [
    "from gensim.models import Word2Vec\n",
    "from gensim.models.word2vec import LineSentence\n",
    "import multiprocessing\n",
    "# 忽略警告\n",
    "import warnings\n",
    "warnings.filterwarnings(action='ignore', category=UserWarning, module='gensim')\n",
    "\n",
    "# 输入语料\n",
    "corpus = '../data/corpus/reviews_wuhan_seg.txt'\n",
    "# 输出向量\n",
    "vector = 'vector.reviews_wuhan_seg.100.1.vector'\n",
    "\n",
    "# 训练skip-gram模型\n",
    "model = Word2Vec(LineSentence(corpus), vector_size=100, window=5, min_count=1,epochs=10,sg=1,negative=5,hs=0,alpha=0.025,min_alpha=0.0001,\n",
    "                    workers=multiprocessing.cpu_count())\n",
    "# 保存词向量\n",
    "model.wv.save_word2vec_format(vector, binary=False)"
   ]
  },
  {
   "cell_type": "code",
   "execution_count": 2,
   "metadata": {},
   "outputs": [],
   "source": [
    "import gensim\n",
    "# 词向量位置\n",
    "vector = 'vector.reviews_wuhan_seg.100.1.vector'\n",
    "# 加载词向量\n",
    "model = gensim.models.KeyedVectors.load_word2vec_format(vector,binary=False)"
   ]
  },
  {
   "cell_type": "code",
   "execution_count": 3,
   "metadata": {},
   "outputs": [
    {
     "name": "stdout",
     "output_type": "stream",
     "text": [
      "The count of the word '服务' is 57093 in model\n",
      "[('人员', 0.8230699300765991), ('客房', 0.8138812780380249), ('热情周到', 0.8108997344970703), ('服务质量', 0.8013456463813782), ('周到', 0.7997245788574219), ('态度', 0.7902022004127502), ('热情服务', 0.7859508991241455), ('认真负责', 0.7851046323776245), ('房东', 0.7809022068977356), ('服务态度', 0.7786008715629578), ('公共设施', 0.7747988700866699), ('开床', 0.7707641124725342), ('硬件', 0.7670287489891052), ('人员素质', 0.766069233417511), ('客气', 0.7636380791664124), ('秩序井然', 0.7564690113067627), ('服务员', 0.7559362053871155), ('掌柜', 0.7556269764900208), ('管家', 0.7530906200408936), ('服务设施', 0.7527444958686829)]\n",
      "------------------------------------------------\n",
      "The count of the word '环境' is 57279 in model\n",
      "[('周围环境', 0.8333516120910645), ('伙食', 0.8011175990104675), ('空气质量', 0.7974275946617126), ('周边环境', 0.7875035405158997), ('采光', 0.7772249579429626), ('基础设施', 0.7747654318809509), ('好水', 0.7720585465431213), ('优美环境', 0.766463577747345), ('比较完善', 0.7591996788978577), ('环境卫生', 0.7578940987586975), ('游泳馆', 0.75748211145401), ('脱俗', 0.7550861239433289), ('优', 0.7543816566467285), ('服务设施', 0.7498805522918701), ('学风', 0.7493801116943359), ('优雅', 0.7484407424926758), ('干净', 0.7478792667388916), ('好绿道', 0.7448601722717285), ('自然环境', 0.7448046207427979), ('清悠', 0.7399579286575317)]\n",
      "------------------------------------------------\n",
      "The count of the word '商业化' is 55356 in model\n",
      "[('显', 0.7544447183609009), ('太过', 0.7515974044799805), ('嘈杂', 0.7511645555496216), ('浓', 0.7414910197257996), ('实', 0.7333180904388428), ('人情味', 0.7332062125205994), ('过于', 0.7326711416244507), ('过分', 0.7325133085250854), ('脏乱', 0.7324743866920471), ('低端', 0.7313477993011475), ('崭新', 0.730353832244873), ('大杂烩', 0.7295295596122742), ('吵杂', 0.7268655300140381), ('雷同', 0.72647625207901), ('破烂', 0.7258177399635315), ('通病', 0.7253904938697815), ('说不上', 0.722596287727356), ('管理者', 0.7220981121063232), ('破破烂烂', 0.721971869468689), ('堪忧', 0.7212246060371399)]\n",
      "------------------------------------------------\n",
      "The count of the word '景色' is 57342 in model\n",
      "[('风景', 0.7844018936157227), ('高常好', 0.7508218884468079), ('妙不可言', 0.7472413778305054), ('晃晃', 0.7227535843849182), ('清心', 0.7190134525299072), ('养肺', 0.7127920985221863), ('超赞蛮', 0.7111005783081055), ('三峡地区', 0.7109287977218628), ('价比高', 0.7096547484397888), ('高好', 0.7038987278938293), ('仙', 0.7016549110412598), ('高照', 0.6999297142028809), ('高太远', 0.699299693107605), ('船挺', 0.6990380883216858), ('哎哟', 0.6974396705627441), ('天天向上', 0.6973186135292053), ('高家', 0.6958459615707397), ('高宝宝', 0.6949050426483154), ('玩赏', 0.6942168474197388), ('不脆', 0.6940820813179016)]\n",
      "------------------------------------------------\n",
      "The count of the word '管理' is 56776 in model\n",
      "[('管理水平', 0.7375276684761047), ('秩序', 0.7347170114517212), ('人员素质', 0.7223284840583801), ('规范', 0.721197247505188), ('不善', 0.7205917835235596), ('服务质量', 0.7111314535140991), ('维护', 0.7090224027633667), ('跟上', 0.7053323984146118), ('维持秩序', 0.6989457607269287), ('稍差', 0.6978731751441956), ('较差', 0.6951184868812561), ('卫生', 0.6933894157409668), ('环境卫生', 0.6912074089050293), ('硬件', 0.6906318664550781), ('惨不忍睹', 0.6899620890617371), ('标识牌', 0.6868482232093811), ('亟待', 0.6862291097640991), ('不全', 0.6833303570747375), ('次序', 0.6832106113433838), ('提高', 0.6828097701072693)]\n",
      "------------------------------------------------\n"
     ]
    }
   ],
   "source": [
    "for m in ['model']:\n",
    "  for w in ['服务','环境','商业化','景色','管理']:\n",
    "    print('The count of the word \\''+w+'\\' is', eval(m).get_vecattr(w, \"count\"), 'in', m)  #获得词频\n",
    "    print(eval(m).most_similar(w,topn = 20))\n",
    "    print('------------------------------------------------')"
   ]
  }
 ],
 "metadata": {
  "interpreter": {
   "hash": "1e14dff31657d72d8f438edb53d1760a8d6796be921cd9f1003fb34023c1344f"
  },
  "kernelspec": {
   "display_name": "Python 3.8.12 ('tensorflow')",
   "language": "python",
   "name": "python3"
  },
  "language_info": {
   "codemirror_mode": {
    "name": "ipython",
    "version": 3
   },
   "file_extension": ".py",
   "mimetype": "text/x-python",
   "name": "python",
   "nbconvert_exporter": "python",
   "pygments_lexer": "ipython3",
   "version": "3.8.12"
  },
  "orig_nbformat": 4
 },
 "nbformat": 4,
 "nbformat_minor": 2
}
